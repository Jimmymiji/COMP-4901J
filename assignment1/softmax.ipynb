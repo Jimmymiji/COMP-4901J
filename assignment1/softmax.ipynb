{
 "cells": [
  {
   "cell_type": "markdown",
   "metadata": {},
   "source": [
    "# Softmax exercise\n",
    "\n",
    "*Complete and hand in this completed worksheet (including its outputs and any supporting code outside of the worksheet) with your assignment submission. For more details see the [assignments page](http://vision.stanford.edu/teaching/cs231n/assignments.html) on the course website.*\n",
    "\n",
    "This exercise is analogous to the SVM exercise. You will:\n",
    "\n",
    "- implement a fully-vectorized **loss function** for the Softmax classifier\n",
    "- implement the fully-vectorized expression for its **analytic gradient**\n",
    "- **check your implementation** with numerical gradient\n",
    "- use a validation set to **tune the learning rate and regularization** strength\n",
    "- **optimize** the loss function with **SGD**\n",
    "- **visualize** the final learned weights\n"
   ]
  },
  {
   "cell_type": "code",
   "execution_count": 1,
   "metadata": {
    "collapsed": true
   },
   "outputs": [],
   "source": [
    "import random\n",
    "import numpy as np\n",
    "from cs231n.data_utils import load_CIFAR10\n",
    "import matplotlib.pyplot as plt\n",
    "\n",
    "from __future__ import print_function\n",
    "\n",
    "%matplotlib inline\n",
    "plt.rcParams['figure.figsize'] = (10.0, 8.0) # set default size of plots\n",
    "plt.rcParams['image.interpolation'] = 'nearest'\n",
    "plt.rcParams['image.cmap'] = 'gray'\n",
    "\n",
    "# for auto-reloading extenrnal modules\n",
    "# see http://stackoverflow.com/questions/1907993/autoreload-of-modules-in-ipython\n",
    "%load_ext autoreload\n",
    "%autoreload 2"
   ]
  },
  {
   "cell_type": "code",
   "execution_count": 2,
   "metadata": {},
   "outputs": [
    {
     "name": "stdout",
     "output_type": "stream",
     "text": [
      "Train data shape:  (49000, 3073)\n",
      "Train labels shape:  (49000,)\n",
      "Validation data shape:  (1000, 3073)\n",
      "Validation labels shape:  (1000,)\n",
      "Test data shape:  (1000, 3073)\n",
      "Test labels shape:  (1000,)\n",
      "dev data shape:  (500, 3073)\n",
      "dev labels shape:  (500,)\n"
     ]
    }
   ],
   "source": [
    "def get_CIFAR10_data(num_training=49000, num_validation=1000, num_test=1000, num_dev=500):\n",
    "    \"\"\"\n",
    "    Load the CIFAR-10 dataset from disk and perform preprocessing to prepare\n",
    "    it for the linear classifier. These are the same steps as we used for the\n",
    "    SVM, but condensed to a single function.  \n",
    "    \"\"\"\n",
    "    # Load the raw CIFAR-10 data\n",
    "    cifar10_dir = 'cs231n/datasets/cifar-10-batches-py'\n",
    "    X_train, y_train, X_test, y_test = load_CIFAR10(cifar10_dir)\n",
    "    \n",
    "    # subsample the data\n",
    "    mask = list(range(num_training, num_training + num_validation))\n",
    "    X_val = X_train[mask]\n",
    "    y_val = y_train[mask]\n",
    "    mask = list(range(num_training))\n",
    "    X_train = X_train[mask]\n",
    "    y_train = y_train[mask]\n",
    "    mask = list(range(num_test))\n",
    "    X_test = X_test[mask]\n",
    "    y_test = y_test[mask]\n",
    "    mask = np.random.choice(num_training, num_dev, replace=False)\n",
    "    X_dev = X_train[mask]\n",
    "    y_dev = y_train[mask]\n",
    "    \n",
    "    # Preprocessing: reshape the image data into rows\n",
    "    X_train = np.reshape(X_train, (X_train.shape[0], -1))\n",
    "    X_val = np.reshape(X_val, (X_val.shape[0], -1))\n",
    "    X_test = np.reshape(X_test, (X_test.shape[0], -1))\n",
    "    X_dev = np.reshape(X_dev, (X_dev.shape[0], -1))\n",
    "    \n",
    "    # Normalize the data: subtract the mean image\n",
    "    mean_image = np.mean(X_train, axis = 0)\n",
    "    X_train -= mean_image\n",
    "    X_val -= mean_image\n",
    "    X_test -= mean_image\n",
    "    X_dev -= mean_image\n",
    "    \n",
    "    # add bias dimension and transform into columns\n",
    "    X_train = np.hstack([X_train, np.ones((X_train.shape[0], 1))])\n",
    "    X_val = np.hstack([X_val, np.ones((X_val.shape[0], 1))])\n",
    "    X_test = np.hstack([X_test, np.ones((X_test.shape[0], 1))])\n",
    "    X_dev = np.hstack([X_dev, np.ones((X_dev.shape[0], 1))])\n",
    "    \n",
    "    return X_train, y_train, X_val, y_val, X_test, y_test, X_dev, y_dev\n",
    "\n",
    "\n",
    "# Invoke the above function to get our data.\n",
    "X_train, y_train, X_val, y_val, X_test, y_test, X_dev, y_dev = get_CIFAR10_data()\n",
    "print('Train data shape: ', X_train.shape)\n",
    "print('Train labels shape: ', y_train.shape)\n",
    "print('Validation data shape: ', X_val.shape)\n",
    "print('Validation labels shape: ', y_val.shape)\n",
    "print('Test data shape: ', X_test.shape)\n",
    "print('Test labels shape: ', y_test.shape)\n",
    "print('dev data shape: ', X_dev.shape)\n",
    "print('dev labels shape: ', y_dev.shape)"
   ]
  },
  {
   "cell_type": "markdown",
   "metadata": {},
   "source": [
    "## Softmax Classifier\n",
    "\n",
    "Your code for this section will all be written inside **cs231n/classifiers/softmax.py**. \n"
   ]
  },
  {
   "cell_type": "code",
   "execution_count": 3,
   "metadata": {},
   "outputs": [
    {
     "name": "stdout",
     "output_type": "stream",
     "text": [
      "loss: 2.360581\n",
      "sanity check: 2.302585\n"
     ]
    }
   ],
   "source": [
    "# First implement the naive softmax loss function with nested loops.\n",
    "# Open the file cs231n/classifiers/softmax.py and implement the\n",
    "# softmax_loss_naive function.\n",
    "\n",
    "from cs231n.classifiers.softmax import softmax_loss_naive\n",
    "import time\n",
    "\n",
    "# Generate a random softmax weight matrix and use it to compute the loss.\n",
    "W = np.random.randn(3073, 10) * 0.0001\n",
    "loss, grad = softmax_loss_naive(W, X_dev, y_dev, 0.0)\n",
    "\n",
    "# As a rough sanity check, our loss should be something close to -log(0.1).\n",
    "print('loss: %f' % loss)\n",
    "print('sanity check: %f' % (-np.log(0.1)))"
   ]
  },
  {
   "cell_type": "markdown",
   "metadata": {},
   "source": [
    "Inline Question 1:\n",
    "Why do we expect our loss to be close to -log(0.1)? Explain briefly.**\n",
    "\n",
    "**Your answer:** At first W is totally random,so we expect it will give similiary socres for each class. Therefore, the exponential of correct scores divided by the sum of exponential of ten scores is expected to be 0.1 (1/10), loss is expected to be -log(0.1) \n"
   ]
  },
  {
   "cell_type": "code",
   "execution_count": 4,
   "metadata": {},
   "outputs": [
    {
     "name": "stdout",
     "output_type": "stream",
     "text": [
      "numerical: 0.064918 analytic: 0.064917, relative error: 1.175473e-06\n",
      "numerical: 1.375215 analytic: 1.375215, relative error: 1.826269e-10\n",
      "numerical: 1.747719 analytic: 1.747719, relative error: 3.653032e-08\n",
      "numerical: -1.715995 analytic: -1.715995, relative error: 2.705505e-09\n",
      "numerical: -1.469320 analytic: -1.469320, relative error: 9.668239e-09\n",
      "numerical: 3.182020 analytic: 3.182019, relative error: 3.387300e-08\n",
      "numerical: -4.532014 analytic: -4.532014, relative error: 9.188039e-09\n",
      "numerical: -1.575555 analytic: -1.575555, relative error: 3.819662e-08\n",
      "numerical: -0.083085 analytic: -0.083085, relative error: 8.347347e-07\n",
      "numerical: 1.363723 analytic: 1.363723, relative error: 4.294838e-10\n",
      "numerical: 2.433053 analytic: 2.433053, relative error: 4.692083e-08\n",
      "numerical: 2.198144 analytic: 2.198144, relative error: 2.233402e-08\n",
      "numerical: 0.611929 analytic: 0.611929, relative error: 6.755643e-09\n",
      "numerical: -0.684410 analytic: -0.684410, relative error: 6.275012e-08\n",
      "numerical: 1.052253 analytic: 1.052253, relative error: 8.552452e-09\n",
      "numerical: 2.516133 analytic: 2.516133, relative error: 1.208597e-08\n",
      "numerical: 2.493463 analytic: 2.493463, relative error: 3.062685e-08\n",
      "numerical: 0.771029 analytic: 0.771029, relative error: 8.988587e-09\n",
      "numerical: -1.296278 analytic: -1.296278, relative error: 7.857296e-09\n",
      "numerical: -0.011407 analytic: -0.011407, relative error: 1.953034e-06\n"
     ]
    }
   ],
   "source": [
    "# Complete the implementation of softmax_loss_naive and implement a (naive)\n",
    "# version of the gradient that uses nested loops.\n",
    "loss, grad = softmax_loss_naive(W, X_dev, y_dev, 0.0)\n",
    "\n",
    "# As we did for the SVM, use numeric gradient checking as a debugging tool.\n",
    "# The numeric gradient should be close to the analytic gradient.\n",
    "from cs231n.gradient_check import grad_check_sparse\n",
    "f = lambda w: softmax_loss_naive(w, X_dev, y_dev, 0.0)[0]\n",
    "grad_numerical = grad_check_sparse(f, W, grad, 10)\n",
    "\n",
    "# similar to SVM case, do another gradient check with regularization\n",
    "loss, grad = softmax_loss_naive(W, X_dev, y_dev, 5e1)\n",
    "f = lambda w: softmax_loss_naive(w, X_dev, y_dev, 5e1)[0]\n",
    "grad_numerical = grad_check_sparse(f, W, grad, 10)"
   ]
  },
  {
   "cell_type": "code",
   "execution_count": 5,
   "metadata": {},
   "outputs": [
    {
     "name": "stdout",
     "output_type": "stream",
     "text": [
      "naive loss: 2.360581e+00 computed in 0.049045s\n",
      "vectorized loss: 2.360581e+00 computed in 0.004004s\n",
      "Loss difference: 0.000000\n",
      "Gradient difference: 0.000000\n"
     ]
    }
   ],
   "source": [
    "# Now that we have a naive implementation of the softmax loss function and its gradient,\n",
    "# implement a vectorized version in softmax_loss_vectorized.\n",
    "# The two versions should compute the same results, but the vectorized version should be\n",
    "# much faster.\n",
    "tic = time.time()\n",
    "loss_naive, grad_naive = softmax_loss_naive(W, X_dev, y_dev, 0.000005)\n",
    "toc = time.time()\n",
    "print('naive loss: %e computed in %fs' % (loss_naive, toc - tic))\n",
    "\n",
    "from cs231n.classifiers.softmax import softmax_loss_vectorized\n",
    "tic = time.time()\n",
    "loss_vectorized, grad_vectorized = softmax_loss_vectorized(W, X_dev, y_dev, 0.000005)\n",
    "toc = time.time()\n",
    "print('vectorized loss: %e computed in %fs' % (loss_vectorized, toc - tic))\n",
    "\n",
    "# As we did for the SVM, we use the Frobenius norm to compare the two versions\n",
    "# of the gradient.\n",
    "grad_difference = np.linalg.norm(grad_naive - grad_vectorized, ord='fro')\n",
    "print('Loss difference: %f' % np.abs(loss_naive - loss_vectorized))\n",
    "print('Gradient difference: %f' % grad_difference)"
   ]
  },
  {
   "cell_type": "code",
   "execution_count": 7,
   "metadata": {},
   "outputs": [
    {
     "name": "stdout",
     "output_type": "stream",
     "text": [
      "iteration 0 / 1500: loss 783.314562\n",
      "iteration 100 / 1500: loss 287.229371\n",
      "iteration 200 / 1500: loss 106.433280\n",
      "iteration 300 / 1500: loss 40.348834\n",
      "iteration 400 / 1500: loss 16.108329\n",
      "iteration 500 / 1500: loss 7.191449\n",
      "iteration 600 / 1500: loss 3.941652\n",
      "iteration 700 / 1500: loss 2.779608\n",
      "iteration 800 / 1500: loss 2.382678\n",
      "iteration 900 / 1500: loss 2.190074\n",
      "iteration 1000 / 1500: loss 2.081434\n",
      "iteration 1100 / 1500: loss 2.137772\n",
      "iteration 1200 / 1500: loss 2.149300\n",
      "iteration 1300 / 1500: loss 2.076773\n",
      "iteration 1400 / 1500: loss 2.064306\n",
      "iteration 0 / 1500: loss 1526.209610\n",
      "iteration 100 / 1500: loss 205.518108\n",
      "iteration 200 / 1500: loss 29.320117\n",
      "iteration 300 / 1500: loss 5.798113\n",
      "iteration 400 / 1500: loss 2.657761\n",
      "iteration 500 / 1500: loss 2.239031\n",
      "iteration 600 / 1500: loss 2.148317\n",
      "iteration 700 / 1500: loss 2.165896\n",
      "iteration 800 / 1500: loss 2.114209\n",
      "iteration 900 / 1500: loss 2.114991\n",
      "iteration 1000 / 1500: loss 2.168947\n",
      "iteration 1100 / 1500: loss 2.155875\n",
      "iteration 1200 / 1500: loss 2.112076\n",
      "iteration 1300 / 1500: loss 2.162462\n",
      "iteration 1400 / 1500: loss 2.145145\n",
      "iteration 0 / 1500: loss 778.947386\n",
      "iteration 100 / 1500: loss 6.974984\n",
      "iteration 200 / 1500: loss 2.124009\n",
      "iteration 300 / 1500: loss 2.107678\n",
      "iteration 400 / 1500: loss 2.109472\n",
      "iteration 500 / 1500: loss 2.109898\n",
      "iteration 600 / 1500: loss 2.100126\n",
      "iteration 700 / 1500: loss 2.050322\n",
      "iteration 800 / 1500: loss 2.122418\n",
      "iteration 900 / 1500: loss 2.050446\n",
      "iteration 1000 / 1500: loss 2.014510\n",
      "iteration 1100 / 1500: loss 2.127210\n",
      "iteration 1200 / 1500: loss 2.063478\n",
      "iteration 1300 / 1500: loss 2.082989\n",
      "iteration 1400 / 1500: loss 2.050991\n",
      "iteration 0 / 1500: loss 1536.717732\n",
      "iteration 100 / 1500: loss 2.204462\n",
      "iteration 200 / 1500: loss 2.198817\n",
      "iteration 300 / 1500: loss 2.105263\n",
      "iteration 400 / 1500: loss 2.181118\n",
      "iteration 500 / 1500: loss 2.126622\n",
      "iteration 600 / 1500: loss 2.107539\n",
      "iteration 700 / 1500: loss 2.177332\n",
      "iteration 800 / 1500: loss 2.167258\n",
      "iteration 900 / 1500: loss 2.122527\n",
      "iteration 1000 / 1500: loss 2.150912\n",
      "iteration 1100 / 1500: loss 2.175196\n",
      "iteration 1200 / 1500: loss 2.132277\n",
      "iteration 1300 / 1500: loss 2.144214\n",
      "iteration 1400 / 1500: loss 2.158160\n",
      "iteration 0 / 1500: loss 779.613632\n",
      "iteration 100 / 1500: loss 2.173548\n",
      "iteration 200 / 1500: loss 2.133328\n",
      "iteration 300 / 1500: loss 2.090852\n",
      "iteration 400 / 1500: loss 2.090251\n",
      "iteration 500 / 1500: loss 2.101017\n",
      "iteration 600 / 1500: loss 2.026714\n",
      "iteration 700 / 1500: loss 2.082648\n",
      "iteration 800 / 1500: loss 2.099623\n",
      "iteration 900 / 1500: loss 2.079479\n",
      "iteration 1000 / 1500: loss 2.103359\n",
      "iteration 1100 / 1500: loss 2.101690\n",
      "iteration 1200 / 1500: loss 2.122536\n",
      "iteration 1300 / 1500: loss 2.056121\n",
      "iteration 1400 / 1500: loss 2.031645\n",
      "iteration 0 / 1500: loss 1525.019315\n",
      "iteration 100 / 1500: loss 2.144627\n",
      "iteration 200 / 1500: loss 2.169999\n",
      "iteration 300 / 1500: loss 2.131428\n",
      "iteration 400 / 1500: loss 2.153536\n",
      "iteration 500 / 1500: loss 2.124749\n",
      "iteration 600 / 1500: loss 2.135400\n",
      "iteration 700 / 1500: loss 2.152791\n",
      "iteration 800 / 1500: loss 2.201171\n",
      "iteration 900 / 1500: loss 2.190565\n",
      "iteration 1000 / 1500: loss 2.133541\n",
      "iteration 1100 / 1500: loss 2.147804\n",
      "iteration 1200 / 1500: loss 2.236968\n",
      "iteration 1300 / 1500: loss 2.190642\n",
      "iteration 1400 / 1500: loss 2.160420\n",
      "lr 1.000000e-07 reg 2.500000e+04 train accuracy: 0.330755 val accuracy: 0.337000\n",
      "lr 1.000000e-07 reg 5.000000e+04 train accuracy: 0.296510 val accuracy: 0.312000\n",
      "lr 5.000000e-07 reg 2.500000e+04 train accuracy: 0.326041 val accuracy: 0.349000\n",
      "lr 5.000000e-07 reg 5.000000e+04 train accuracy: 0.304265 val accuracy: 0.320000\n",
      "lr 1.000000e-06 reg 2.500000e+04 train accuracy: 0.327653 val accuracy: 0.337000\n",
      "lr 1.000000e-06 reg 5.000000e+04 train accuracy: 0.302633 val accuracy: 0.315000\n",
      "best validation accuracy achieved during cross-validation: 0.349000\n"
     ]
    }
   ],
   "source": [
    "# Use the validation set to tune hyperparameters (regularization strength and\n",
    "# learning rate). You should experiment with different ranges for the learning\n",
    "# rates and regularization strengths; if you are careful you should be able to\n",
    "# get a classification accuracy of over 0.35 on the validation set.\n",
    "from cs231n.classifiers import Softmax\n",
    "results = {}\n",
    "best_val = -1\n",
    "best_softmax = None\n",
    "learning_rates = [1e-7,5e-7,1e-6]\n",
    "regularization_strengths = [2.5e4,5e4]\n",
    "\n",
    "################################################################################\n",
    "# TODO:                                                                        #\n",
    "# Use the validation set to set the learning rate and regularization strength. #\n",
    "# This should be identical to the validation that you did for the SVM; save    #\n",
    "# the best trained softmax classifer in best_softmax.                          #\n",
    "################################################################################\n",
    "for lr in learning_rates:\n",
    "    for rs in regularization_strengths:\n",
    "        sfm = Softmax()\n",
    "        loss_hist = sfm.train(X_train, y_train, learning_rate=lr, reg=rs,\n",
    "                      num_iters=1500, verbose=True)\n",
    "        y_val_pred = sfm.predict(X_val)\n",
    "        y_train_pred = sfm.predict(X_train)\n",
    "        train_accuracy = np.mean(y_train == y_train_pred)\n",
    "        val_accuracy = np.mean(y_val == y_val_pred)\n",
    "        results[(lr,rs)] = (train_accuracy,val_accuracy)\n",
    "        if val_accuracy > best_val:\n",
    "            best_val = val_accuracy\n",
    "            best_softmax = sfm\n",
    "################################################################################\n",
    "#                              END OF YOUR CODE                                #\n",
    "################################################################################\n",
    "    \n",
    "# Print out results.\n",
    "for lr, reg in sorted(results):\n",
    "    train_accuracy, val_accuracy = results[(lr, reg)]\n",
    "    print('lr %e reg %e train accuracy: %f val accuracy: %f' % (\n",
    "                lr, reg, train_accuracy, val_accuracy))\n",
    "    \n",
    "print('best validation accuracy achieved during cross-validation: %f' % best_val)"
   ]
  },
  {
   "cell_type": "code",
   "execution_count": 8,
   "metadata": {},
   "outputs": [
    {
     "name": "stdout",
     "output_type": "stream",
     "text": [
      "softmax on raw pixels final test set accuracy: 0.336000\n"
     ]
    }
   ],
   "source": [
    "# evaluate on test set\n",
    "# Evaluate the best softmax on test set\n",
    "y_test_pred = best_softmax.predict(X_test)\n",
    "test_accuracy = np.mean(y_test == y_test_pred)\n",
    "print('softmax on raw pixels final test set accuracy: %f' % (test_accuracy, ))"
   ]
  },
  {
   "cell_type": "code",
   "execution_count": 9,
   "metadata": {},
   "outputs": [
    {
     "data": {
      "image/png": "[encoded data removed]",
      "text/plain": [
       "<matplotlib.figure.Figure at 0x20980c78a20>"
      ]
     },
     "metadata": {},
     "output_type": "display_data"
    }
   ],
   "source": [
    "# Visualize the learned weights for each class\n",
    "w = best_softmax.W[:-1,:] # strip out the bias\n",
    "w = w.reshape(32, 32, 3, 10)\n",
    "\n",
    "w_min, w_max = np.min(w), np.max(w)\n",
    "\n",
    "classes = ['plane', 'car', 'bird', 'cat', 'deer', 'dog', 'frog', 'horse', 'ship', 'truck']\n",
    "for i in range(10):\n",
    "    plt.subplot(2, 5, i + 1)\n",
    "    \n",
    "    # Rescale the weights to be between 0 and 255\n",
    "    wimg = 255.0 * (w[:, :, :, i].squeeze() - w_min) / (w_max - w_min)\n",
    "    plt.imshow(wimg.astype('uint8'))\n",
    "    plt.axis('off')\n",
    "    plt.title(classes[i])"
   ]
  },
  {
   "cell_type": "code",
   "execution_count": null,
   "metadata": {
    "collapsed": true
   },
   "outputs": [],
   "source": []
  }
 ],
 "metadata": {
  "kernelspec": {
   "display_name": "Python 3",
   "language": "python",
   "name": "python3"
  },
  "language_info": {
   "codemirror_mode": {
    "name": "ipython",
    "version": 3
   },
   "file_extension": ".py",
   "mimetype": "text/x-python",
   "name": "python",
   "nbconvert_exporter": "python",
   "pygments_lexer": "ipython3",
   "version": "3.5.3"
  }
 },
 "nbformat": 4,
 "nbformat_minor": 1
}
